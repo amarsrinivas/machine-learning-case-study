{
 "cells": [
  {
   "cell_type": "code",
   "execution_count": 82,
   "metadata": {},
   "outputs": [],
   "source": [
    "import numpy as np\n",
    "import pandas as pd\n",
    "import matplotlib.pyplot as plt\n",
    "import seaborn as sns\n",
    "from pandas.tseries.offsets import DateOffset\n",
    "import statsmodels.discrete.discrete_model as sm\n",
    "from sklearn.metrics import classification_report, confusion_matrix, accuracy_score, precision_score, roc_curve\n",
    "from sklearn.model_selection import train_test_split\n",
    "from sklearn.ensemble import RandomForestClassifier"
   ]
  },
  {
   "cell_type": "code",
   "execution_count": 6,
   "metadata": {},
   "outputs": [],
   "source": [
    "df['last_trip_date'] = pd.to_datetime(df['last_trip_date'])"
   ]
  },
  {
   "cell_type": "code",
   "execution_count": 7,
   "metadata": {},
   "outputs": [],
   "source": [
    "current_date = max(df['last_trip_date'])"
   ]
  },
  {
   "cell_type": "code",
   "execution_count": 9,
   "metadata": {},
   "outputs": [],
   "source": [
    "one_month_back = current_date-DateOffset(months=1)"
   ]
  },
  {
   "cell_type": "code",
   "execution_count": 12,
   "metadata": {},
   "outputs": [],
   "source": [
    "df[\"label\"] = df['last_trip_date']<one_month_back"
   ]
  },
  {
   "cell_type": "code",
   "execution_count": 13,
   "metadata": {},
   "outputs": [
    {
     "data": {
      "text/html": [
       "<div>\n",
       "<style scoped>\n",
       "    .dataframe tbody tr th:only-of-type {\n",
       "        vertical-align: middle;\n",
       "    }\n",
       "\n",
       "    .dataframe tbody tr th {\n",
       "        vertical-align: top;\n",
       "    }\n",
       "\n",
       "    .dataframe thead th {\n",
       "        text-align: right;\n",
       "    }\n",
       "</style>\n",
       "<table border=\"1\" class=\"dataframe\">\n",
       "  <thead>\n",
       "    <tr style=\"text-align: right;\">\n",
       "      <th></th>\n",
       "      <th>avg_dist</th>\n",
       "      <th>avg_rating_by_driver</th>\n",
       "      <th>avg_rating_of_driver</th>\n",
       "      <th>avg_surge</th>\n",
       "      <th>city</th>\n",
       "      <th>last_trip_date</th>\n",
       "      <th>phone</th>\n",
       "      <th>signup_date</th>\n",
       "      <th>surge_pct</th>\n",
       "      <th>trips_in_first_30_days</th>\n",
       "      <th>luxury_car_user</th>\n",
       "      <th>weekday_pct</th>\n",
       "      <th>label</th>\n",
       "    </tr>\n",
       "  </thead>\n",
       "  <tbody>\n",
       "    <tr>\n",
       "      <th>0</th>\n",
       "      <td>6.94</td>\n",
       "      <td>5.0</td>\n",
       "      <td>5.0</td>\n",
       "      <td>1.00</td>\n",
       "      <td>Astapor</td>\n",
       "      <td>2014-05-03</td>\n",
       "      <td>Android</td>\n",
       "      <td>2014-01-12</td>\n",
       "      <td>0.0</td>\n",
       "      <td>0</td>\n",
       "      <td>False</td>\n",
       "      <td>100.0</td>\n",
       "      <td>True</td>\n",
       "    </tr>\n",
       "    <tr>\n",
       "      <th>1</th>\n",
       "      <td>8.06</td>\n",
       "      <td>5.0</td>\n",
       "      <td>5.0</td>\n",
       "      <td>1.00</td>\n",
       "      <td>Astapor</td>\n",
       "      <td>2014-01-26</td>\n",
       "      <td>Android</td>\n",
       "      <td>2014-01-25</td>\n",
       "      <td>0.0</td>\n",
       "      <td>2</td>\n",
       "      <td>True</td>\n",
       "      <td>0.0</td>\n",
       "      <td>True</td>\n",
       "    </tr>\n",
       "    <tr>\n",
       "      <th>2</th>\n",
       "      <td>21.50</td>\n",
       "      <td>4.0</td>\n",
       "      <td>NaN</td>\n",
       "      <td>1.00</td>\n",
       "      <td>Winterfell</td>\n",
       "      <td>2014-05-21</td>\n",
       "      <td>iPhone</td>\n",
       "      <td>2014-01-02</td>\n",
       "      <td>0.0</td>\n",
       "      <td>1</td>\n",
       "      <td>True</td>\n",
       "      <td>100.0</td>\n",
       "      <td>True</td>\n",
       "    </tr>\n",
       "    <tr>\n",
       "      <th>3</th>\n",
       "      <td>9.46</td>\n",
       "      <td>5.0</td>\n",
       "      <td>NaN</td>\n",
       "      <td>2.75</td>\n",
       "      <td>Winterfell</td>\n",
       "      <td>2014-01-10</td>\n",
       "      <td>Android</td>\n",
       "      <td>2014-01-09</td>\n",
       "      <td>100.0</td>\n",
       "      <td>1</td>\n",
       "      <td>False</td>\n",
       "      <td>100.0</td>\n",
       "      <td>True</td>\n",
       "    </tr>\n",
       "    <tr>\n",
       "      <th>4</th>\n",
       "      <td>13.77</td>\n",
       "      <td>5.0</td>\n",
       "      <td>NaN</td>\n",
       "      <td>1.00</td>\n",
       "      <td>Winterfell</td>\n",
       "      <td>2014-05-13</td>\n",
       "      <td>iPhone</td>\n",
       "      <td>2014-01-31</td>\n",
       "      <td>0.0</td>\n",
       "      <td>0</td>\n",
       "      <td>False</td>\n",
       "      <td>100.0</td>\n",
       "      <td>True</td>\n",
       "    </tr>\n",
       "  </tbody>\n",
       "</table>\n",
       "</div>"
      ],
      "text/plain": [
       "   avg_dist  avg_rating_by_driver  avg_rating_of_driver  avg_surge  \\\n",
       "0      6.94                   5.0                   5.0       1.00   \n",
       "1      8.06                   5.0                   5.0       1.00   \n",
       "2     21.50                   4.0                   NaN       1.00   \n",
       "3      9.46                   5.0                   NaN       2.75   \n",
       "4     13.77                   5.0                   NaN       1.00   \n",
       "\n",
       "         city last_trip_date    phone signup_date  surge_pct  \\\n",
       "0     Astapor     2014-05-03  Android  2014-01-12        0.0   \n",
       "1     Astapor     2014-01-26  Android  2014-01-25        0.0   \n",
       "2  Winterfell     2014-05-21   iPhone  2014-01-02        0.0   \n",
       "3  Winterfell     2014-01-10  Android  2014-01-09      100.0   \n",
       "4  Winterfell     2014-05-13   iPhone  2014-01-31        0.0   \n",
       "\n",
       "   trips_in_first_30_days  luxury_car_user  weekday_pct  label  \n",
       "0                       0            False        100.0   True  \n",
       "1                       2             True          0.0   True  \n",
       "2                       1             True        100.0   True  \n",
       "3                       1            False        100.0   True  \n",
       "4                       0            False        100.0   True  "
      ]
     },
     "execution_count": 13,
     "metadata": {},
     "output_type": "execute_result"
    }
   ],
   "source": [
    "df.head()"
   ]
  },
  {
   "cell_type": "code",
   "execution_count": 14,
   "metadata": {},
   "outputs": [
    {
     "data": {
      "text/plain": [
       "<matplotlib.axes._subplots.AxesSubplot at 0x7f621d41a2e8>"
      ]
     },
     "execution_count": 14,
     "metadata": {},
     "output_type": "execute_result"
    },
    {
     "data": {
      "image/png": "[encoded data removed]",
      "text/plain": [
       "<Figure size 432x288 with 1 Axes>"
      ]
     },
     "metadata": {},
     "output_type": "display_data"
    }
   ],
   "source": [
    "sns.countplot(df[\"label\"])"
   ]
  },
  {
   "cell_type": "code",
   "execution_count": 15,
   "metadata": {},
   "outputs": [
    {
     "data": {
      "text/plain": [
       "True     24968\n",
       "False    15032\n",
       "Name: label, dtype: int64"
      ]
     },
     "execution_count": 15,
     "metadata": {},
     "output_type": "execute_result"
    }
   ],
   "source": [
    "df[\"label\"].value_counts()"
   ]
  },
  {
   "cell_type": "code",
   "execution_count": 17,
   "metadata": {},
   "outputs": [
    {
     "name": "stdout",
     "output_type": "stream",
     "text": [
      "Winterfell        18620\n",
      "Astapor           13236\n",
      "King's Landing     8144\n",
      "Name: city, dtype: int64\n",
      "iPhone     27628\n",
      "Android    12053\n",
      "Name: phone, dtype: int64\n"
     ]
    }
   ],
   "source": [
    "categories = [\"city\", \"phone\"]\n",
    "\n",
    "for i in categories:\n",
    "    print (df[i].value_counts())"
   ]
  },
  {
   "cell_type": "code",
   "execution_count": 18,
   "metadata": {},
   "outputs": [
    {
     "data": {
      "text/plain": [
       "<seaborn.axisgrid.FacetGrid at 0x7f621d66cbe0>"
      ]
     },
     "execution_count": 18,
     "metadata": {},
     "output_type": "execute_result"
    },
    {
     "data": {
      "image/png": "[encoded data removed]",
      "text/plain": [
       "<Figure size 422.125x360 with 1 Axes>"
      ]
     },
     "metadata": {},
     "output_type": "display_data"
    }
   ],
   "source": [
    "sns.lmplot(\"trips_in_first_30_days\", \"surge_pct\", df, hue = \"label\")"
   ]
  },
  {
   "cell_type": "code",
   "execution_count": 19,
   "metadata": {},
   "outputs": [
    {
     "data": {
      "text/plain": [
       "avg_dist                     0\n",
       "avg_rating_by_driver       162\n",
       "avg_rating_of_driver      6528\n",
       "avg_surge                    0\n",
       "city                         0\n",
       "last_trip_date               0\n",
       "phone                      319\n",
       "signup_date                  0\n",
       "surge_pct                    0\n",
       "trips_in_first_30_days       0\n",
       "luxury_car_user              0\n",
       "weekday_pct                  0\n",
       "label                        0\n",
       "dtype: int64"
      ]
     },
     "execution_count": 19,
     "metadata": {},
     "output_type": "execute_result"
    }
   ],
   "source": [
    "df.isnull().sum()"
   ]
  },
  {
   "cell_type": "code",
   "execution_count": 20,
   "metadata": {},
   "outputs": [],
   "source": [
    "not_null = df.avg_rating_of_driver.isnull()==False\n",
    "null = df.avg_rating_of_driver.isnull()==True"
   ]
  },
  {
   "cell_type": "code",
   "execution_count": 21,
   "metadata": {},
   "outputs": [],
   "source": [
    "df.head()\n",
    "mode = df.avg_rating_of_driver[not_null].mode()\n",
    "median = df.avg_rating_of_driver[not_null].median()"
   ]
  },
  {
   "cell_type": "code",
   "execution_count": 22,
   "metadata": {},
   "outputs": [],
   "source": [
    "df.loc[null,'avg_rating_of_driver'] = 1.0"
   ]
  },
  {
   "cell_type": "code",
   "execution_count": 23,
   "metadata": {},
   "outputs": [],
   "source": [
    "not_null_by_driver = df.avg_rating_by_driver.isnull()==False\n",
    "null_by_driver = df.avg_rating_by_driver.isnull()==True\n",
    "\n",
    "df.head()\n",
    "mode1 = df.avg_rating_by_driver[not_null].mode()\n",
    "median1 = df.avg_rating_by_driver[not_null].median()\n",
    "\n",
    "df.loc[null_by_driver,'avg_rating_by_driver'] = 1.0"
   ]
  },
  {
   "cell_type": "code",
   "execution_count": 24,
   "metadata": {},
   "outputs": [],
   "source": [
    "not_null_phone = df.phone.isnull()==False\n",
    "null_phone = df.phone.isnull()==True\n",
    "\n",
    "df.loc[null_phone,'phone'] = 'other'"
   ]
  },
  {
   "cell_type": "code",
   "execution_count": 25,
   "metadata": {},
   "outputs": [
    {
     "data": {
      "text/plain": [
       "avg_dist                  0\n",
       "avg_rating_by_driver      0\n",
       "avg_rating_of_driver      0\n",
       "avg_surge                 0\n",
       "city                      0\n",
       "last_trip_date            0\n",
       "phone                     0\n",
       "signup_date               0\n",
       "surge_pct                 0\n",
       "trips_in_first_30_days    0\n",
       "luxury_car_user           0\n",
       "weekday_pct               0\n",
       "label                     0\n",
       "dtype: int64"
      ]
     },
     "execution_count": 25,
     "metadata": {},
     "output_type": "execute_result"
    }
   ],
   "source": [
    "df.isnull().sum()"
   ]
  },
  {
   "cell_type": "code",
   "execution_count": 26,
   "metadata": {},
   "outputs": [],
   "source": [
    "def rating(i):\n",
    "    if i >= 4 :\n",
    "        return \"high\"\n",
    "    else:\n",
    "        return \"low\"\n",
    "    \n",
    "df[\"avg_rating_of_driver\"] = df[\"avg_rating_of_driver\"].apply(rating)\n",
    "df[\"avg_rating_by_driver\"] = df[\"avg_rating_by_driver\"].apply(rating)"
   ]
  },
  {
   "cell_type": "code",
   "execution_count": 27,
   "metadata": {},
   "outputs": [],
   "source": [
    "df.signup_date = pd.to_datetime(df['signup_date'])"
   ]
  },
  {
   "cell_type": "code",
   "execution_count": 28,
   "metadata": {},
   "outputs": [],
   "source": [
    "df['time_as_user'] = one_month_back - df.signup_date\n",
    "df['time_as_user'] = df.time_as_user.dt.days"
   ]
  },
  {
   "cell_type": "code",
   "execution_count": 29,
   "metadata": {},
   "outputs": [],
   "source": [
    "def boolean_int(i):\n",
    "    if i == False:\n",
    "        return 0\n",
    "    else:\n",
    "        return 1"
   ]
  },
  {
   "cell_type": "code",
   "execution_count": 30,
   "metadata": {},
   "outputs": [],
   "source": [
    "df[\"luxury_car_user\"] = df[\"luxury_car_user\"].apply(boolean_int)"
   ]
  },
  {
   "cell_type": "code",
   "execution_count": 31,
   "metadata": {},
   "outputs": [],
   "source": [
    "df_1 = df.copy()"
   ]
  },
  {
   "cell_type": "code",
   "execution_count": 32,
   "metadata": {},
   "outputs": [],
   "source": [
    "categories = [\"city\", \"phone\", \"avg_rating_of_driver\", \"avg_rating_by_driver\"]"
   ]
  },
  {
   "cell_type": "code",
   "execution_count": 33,
   "metadata": {},
   "outputs": [],
   "source": [
    "for i in categories:\n",
    "    x = pd.get_dummies(df_1[i], drop_first = True, prefix = str(i)+\"_\")\n",
    "    df_1 = pd.concat([df_1, x],axis=1)"
   ]
  },
  {
   "cell_type": "code",
   "execution_count": 34,
   "metadata": {},
   "outputs": [
    {
     "data": {
      "text/html": [
       "<div>\n",
       "<style scoped>\n",
       "    .dataframe tbody tr th:only-of-type {\n",
       "        vertical-align: middle;\n",
       "    }\n",
       "\n",
       "    .dataframe tbody tr th {\n",
       "        vertical-align: top;\n",
       "    }\n",
       "\n",
       "    .dataframe thead th {\n",
       "        text-align: right;\n",
       "    }\n",
       "</style>\n",
       "<table border=\"1\" class=\"dataframe\">\n",
       "  <thead>\n",
       "    <tr style=\"text-align: right;\">\n",
       "      <th></th>\n",
       "      <th>avg_dist</th>\n",
       "      <th>avg_rating_by_driver</th>\n",
       "      <th>avg_rating_of_driver</th>\n",
       "      <th>avg_surge</th>\n",
       "      <th>city</th>\n",
       "      <th>last_trip_date</th>\n",
       "      <th>phone</th>\n",
       "      <th>signup_date</th>\n",
       "      <th>surge_pct</th>\n",
       "      <th>trips_in_first_30_days</th>\n",
       "      <th>luxury_car_user</th>\n",
       "      <th>weekday_pct</th>\n",
       "      <th>label</th>\n",
       "      <th>time_as_user</th>\n",
       "      <th>city__King's Landing</th>\n",
       "      <th>city__Winterfell</th>\n",
       "      <th>phone__iPhone</th>\n",
       "      <th>phone__other</th>\n",
       "      <th>avg_rating_of_driver__low</th>\n",
       "      <th>avg_rating_by_driver__low</th>\n",
       "    </tr>\n",
       "  </thead>\n",
       "  <tbody>\n",
       "    <tr>\n",
       "      <th>0</th>\n",
       "      <td>6.94</td>\n",
       "      <td>high</td>\n",
       "      <td>high</td>\n",
       "      <td>1.00</td>\n",
       "      <td>Astapor</td>\n",
       "      <td>2014-05-03</td>\n",
       "      <td>Android</td>\n",
       "      <td>2014-01-12</td>\n",
       "      <td>0.0</td>\n",
       "      <td>0</td>\n",
       "      <td>0</td>\n",
       "      <td>100.0</td>\n",
       "      <td>True</td>\n",
       "      <td>140</td>\n",
       "      <td>0</td>\n",
       "      <td>0</td>\n",
       "      <td>0</td>\n",
       "      <td>0</td>\n",
       "      <td>0</td>\n",
       "      <td>0</td>\n",
       "    </tr>\n",
       "    <tr>\n",
       "      <th>1</th>\n",
       "      <td>8.06</td>\n",
       "      <td>high</td>\n",
       "      <td>high</td>\n",
       "      <td>1.00</td>\n",
       "      <td>Astapor</td>\n",
       "      <td>2014-01-26</td>\n",
       "      <td>Android</td>\n",
       "      <td>2014-01-25</td>\n",
       "      <td>0.0</td>\n",
       "      <td>2</td>\n",
       "      <td>1</td>\n",
       "      <td>0.0</td>\n",
       "      <td>True</td>\n",
       "      <td>127</td>\n",
       "      <td>0</td>\n",
       "      <td>0</td>\n",
       "      <td>0</td>\n",
       "      <td>0</td>\n",
       "      <td>0</td>\n",
       "      <td>0</td>\n",
       "    </tr>\n",
       "    <tr>\n",
       "      <th>2</th>\n",
       "      <td>21.50</td>\n",
       "      <td>high</td>\n",
       "      <td>low</td>\n",
       "      <td>1.00</td>\n",
       "      <td>Winterfell</td>\n",
       "      <td>2014-05-21</td>\n",
       "      <td>iPhone</td>\n",
       "      <td>2014-01-02</td>\n",
       "      <td>0.0</td>\n",
       "      <td>1</td>\n",
       "      <td>1</td>\n",
       "      <td>100.0</td>\n",
       "      <td>True</td>\n",
       "      <td>150</td>\n",
       "      <td>0</td>\n",
       "      <td>1</td>\n",
       "      <td>1</td>\n",
       "      <td>0</td>\n",
       "      <td>1</td>\n",
       "      <td>0</td>\n",
       "    </tr>\n",
       "    <tr>\n",
       "      <th>3</th>\n",
       "      <td>9.46</td>\n",
       "      <td>high</td>\n",
       "      <td>low</td>\n",
       "      <td>2.75</td>\n",
       "      <td>Winterfell</td>\n",
       "      <td>2014-01-10</td>\n",
       "      <td>Android</td>\n",
       "      <td>2014-01-09</td>\n",
       "      <td>100.0</td>\n",
       "      <td>1</td>\n",
       "      <td>0</td>\n",
       "      <td>100.0</td>\n",
       "      <td>True</td>\n",
       "      <td>143</td>\n",
       "      <td>0</td>\n",
       "      <td>1</td>\n",
       "      <td>0</td>\n",
       "      <td>0</td>\n",
       "      <td>1</td>\n",
       "      <td>0</td>\n",
       "    </tr>\n",
       "    <tr>\n",
       "      <th>4</th>\n",
       "      <td>13.77</td>\n",
       "      <td>high</td>\n",
       "      <td>low</td>\n",
       "      <td>1.00</td>\n",
       "      <td>Winterfell</td>\n",
       "      <td>2014-05-13</td>\n",
       "      <td>iPhone</td>\n",
       "      <td>2014-01-31</td>\n",
       "      <td>0.0</td>\n",
       "      <td>0</td>\n",
       "      <td>0</td>\n",
       "      <td>100.0</td>\n",
       "      <td>True</td>\n",
       "      <td>121</td>\n",
       "      <td>0</td>\n",
       "      <td>1</td>\n",
       "      <td>1</td>\n",
       "      <td>0</td>\n",
       "      <td>1</td>\n",
       "      <td>0</td>\n",
       "    </tr>\n",
       "  </tbody>\n",
       "</table>\n",
       "</div>"
      ],
      "text/plain": [
       "   avg_dist avg_rating_by_driver avg_rating_of_driver  avg_surge        city  \\\n",
       "0      6.94                 high                 high       1.00     Astapor   \n",
       "1      8.06                 high                 high       1.00     Astapor   \n",
       "2     21.50                 high                  low       1.00  Winterfell   \n",
       "3      9.46                 high                  low       2.75  Winterfell   \n",
       "4     13.77                 high                  low       1.00  Winterfell   \n",
       "\n",
       "  last_trip_date    phone signup_date  surge_pct  trips_in_first_30_days  \\\n",
       "0     2014-05-03  Android  2014-01-12        0.0                       0   \n",
       "1     2014-01-26  Android  2014-01-25        0.0                       2   \n",
       "2     2014-05-21   iPhone  2014-01-02        0.0                       1   \n",
       "3     2014-01-10  Android  2014-01-09      100.0                       1   \n",
       "4     2014-05-13   iPhone  2014-01-31        0.0                       0   \n",
       "\n",
       "   luxury_car_user  weekday_pct  label  time_as_user  city__King's Landing  \\\n",
       "0                0        100.0   True           140                     0   \n",
       "1                1          0.0   True           127                     0   \n",
       "2                1        100.0   True           150                     0   \n",
       "3                0        100.0   True           143                     0   \n",
       "4                0        100.0   True           121                     0   \n",
       "\n",
       "   city__Winterfell  phone__iPhone  phone__other  avg_rating_of_driver__low  \\\n",
       "0                 0              0             0                          0   \n",
       "1                 0              0             0                          0   \n",
       "2                 1              1             0                          1   \n",
       "3                 1              0             0                          1   \n",
       "4                 1              1             0                          1   \n",
       "\n",
       "   avg_rating_by_driver__low  \n",
       "0                          0  \n",
       "1                          0  \n",
       "2                          0  \n",
       "3                          0  \n",
       "4                          0  "
      ]
     },
     "execution_count": 34,
     "metadata": {},
     "output_type": "execute_result"
    }
   ],
   "source": [
    "df_1.head()"
   ]
  },
  {
   "cell_type": "code",
   "execution_count": 35,
   "metadata": {},
   "outputs": [],
   "source": [
    "result_df = df_1.copy()"
   ]
  },
  {
   "cell_type": "code",
   "execution_count": 36,
   "metadata": {},
   "outputs": [
    {
     "data": {
      "text/plain": [
       "Index(['avg_dist', 'avg_rating_by_driver', 'avg_rating_of_driver', 'avg_surge',\n",
       "       'city', 'last_trip_date', 'phone', 'signup_date', 'surge_pct',\n",
       "       'trips_in_first_30_days', 'luxury_car_user', 'weekday_pct', 'label',\n",
       "       'time_as_user', 'city__King's Landing', 'city__Winterfell',\n",
       "       'phone__iPhone', 'phone__other', 'avg_rating_of_driver__low',\n",
       "       'avg_rating_by_driver__low'],\n",
       "      dtype='object')"
      ]
     },
     "execution_count": 36,
     "metadata": {},
     "output_type": "execute_result"
    }
   ],
   "source": [
    "result_df.columns"
   ]
  },
  {
   "cell_type": "code",
   "execution_count": 37,
   "metadata": {},
   "outputs": [],
   "source": [
    "features = [\"avg_dist\",\n",
    "       \"avg_surge\",\n",
    "       \"surge_pct\", \"trips_in_first_30_days\", \"luxury_car_user\",\n",
    "       \"weekday_pct\", \"city__King's Landing\", \"city__Winterfell\",\n",
    "       \"phone__iPhone\", \"phone__other\", \"avg_rating_of_driver__low\",\n",
    "       \"avg_rating_by_driver__low\", \"time_as_user\"]"
   ]
  },
  {
   "cell_type": "code",
   "execution_count": 39,
   "metadata": {},
   "outputs": [
    {
     "name": "stdout",
     "output_type": "stream",
     "text": [
      "<class 'pandas.core.frame.DataFrame'>\n",
      "RangeIndex: 40000 entries, 0 to 39999\n",
      "Data columns (total 13 columns):\n",
      "avg_dist                     40000 non-null float64\n",
      "avg_surge                    40000 non-null float64\n",
      "surge_pct                    40000 non-null float64\n",
      "trips_in_first_30_days       40000 non-null int64\n",
      "luxury_car_user              40000 non-null int64\n",
      "weekday_pct                  40000 non-null float64\n",
      "city__King's Landing         40000 non-null uint8\n",
      "city__Winterfell             40000 non-null uint8\n",
      "phone__iPhone                40000 non-null uint8\n",
      "phone__other                 40000 non-null uint8\n",
      "avg_rating_of_driver__low    40000 non-null uint8\n",
      "avg_rating_by_driver__low    40000 non-null uint8\n",
      "time_as_user                 40000 non-null int64\n",
      "dtypes: float64(4), int64(3), uint8(6)\n",
      "memory usage: 2.4 MB\n"
     ]
    }
   ],
   "source": [
    "result_df[features].info()"
   ]
  },
  {
   "cell_type": "code",
   "execution_count": 40,
   "metadata": {},
   "outputs": [],
   "source": [
    "y = result_df.pop(\"label\")\n",
    "X = result_df[features]"
   ]
  },
  {
   "cell_type": "code",
   "execution_count": 43,
   "metadata": {},
   "outputs": [],
   "source": [
    "logit = sm.Logit(y, X)"
   ]
  },
  {
   "cell_type": "code",
   "execution_count": 44,
   "metadata": {},
   "outputs": [
    {
     "name": "stdout",
     "output_type": "stream",
     "text": [
      "Optimization terminated successfully.\n",
      "         Current function value: 0.555427\n",
      "         Iterations 6\n"
     ]
    }
   ],
   "source": [
    "result = logit.fit()"
   ]
  },
  {
   "cell_type": "code",
   "execution_count": 45,
   "metadata": {},
   "outputs": [
    {
     "data": {
      "text/html": [
       "<table class=\"simpletable\">\n",
       "<caption>Logit Regression Results</caption>\n",
       "<tr>\n",
       "  <th>Dep. Variable:</th>       <td>label</td>      <th>  No. Observations:  </th>  <td> 40000</td> \n",
       "</tr>\n",
       "<tr>\n",
       "  <th>Model:</th>               <td>Logit</td>      <th>  Df Residuals:      </th>  <td> 39987</td> \n",
       "</tr>\n",
       "<tr>\n",
       "  <th>Method:</th>               <td>MLE</td>       <th>  Df Model:          </th>  <td>    12</td> \n",
       "</tr>\n",
       "<tr>\n",
       "  <th>Date:</th>          <td>Fri, 12 Oct 2018</td> <th>  Pseudo R-squ.:     </th>  <td>0.1609</td> \n",
       "</tr>\n",
       "<tr>\n",
       "  <th>Time:</th>              <td>12:46:46</td>     <th>  Log-Likelihood:    </th> <td> -22217.</td>\n",
       "</tr>\n",
       "<tr>\n",
       "  <th>converged:</th>           <td>True</td>       <th>  LL-Null:           </th> <td> -26479.</td>\n",
       "</tr>\n",
       "<tr>\n",
       "  <th> </th>                      <td> </td>        <th>  LLR p-value:       </th>  <td> 0.000</td> \n",
       "</tr>\n",
       "</table>\n",
       "<table class=\"simpletable\">\n",
       "<tr>\n",
       "              <td></td>                 <th>coef</th>     <th>std err</th>      <th>z</th>      <th>P>|z|</th>  <th>[0.025</th>    <th>0.975]</th>  \n",
       "</tr>\n",
       "<tr>\n",
       "  <th>avg_dist</th>                  <td>    0.0384</td> <td>    0.002</td> <td>   16.368</td> <td> 0.000</td> <td>    0.034</td> <td>    0.043</td>\n",
       "</tr>\n",
       "<tr>\n",
       "  <th>avg_surge</th>                 <td>    0.7908</td> <td>    0.092</td> <td>    8.567</td> <td> 0.000</td> <td>    0.610</td> <td>    0.972</td>\n",
       "</tr>\n",
       "<tr>\n",
       "  <th>surge_pct</th>                 <td>   -0.0083</td> <td>    0.001</td> <td>   -8.688</td> <td> 0.000</td> <td>   -0.010</td> <td>   -0.006</td>\n",
       "</tr>\n",
       "<tr>\n",
       "  <th>trips_in_first_30_days</th>    <td>   -0.1090</td> <td>    0.004</td> <td>  -28.349</td> <td> 0.000</td> <td>   -0.117</td> <td>   -0.101</td>\n",
       "</tr>\n",
       "<tr>\n",
       "  <th>luxury_car_user</th>           <td>   -0.8645</td> <td>    0.024</td> <td>  -36.151</td> <td> 0.000</td> <td>   -0.911</td> <td>   -0.818</td>\n",
       "</tr>\n",
       "<tr>\n",
       "  <th>weekday_pct</th>               <td>    0.0008</td> <td>    0.000</td> <td>    2.533</td> <td> 0.011</td> <td>    0.000</td> <td>    0.001</td>\n",
       "</tr>\n",
       "<tr>\n",
       "  <th>city__King's Landing</th>      <td>   -1.6675</td> <td>    0.033</td> <td>  -50.625</td> <td> 0.000</td> <td>   -1.732</td> <td>   -1.603</td>\n",
       "</tr>\n",
       "<tr>\n",
       "  <th>city__Winterfell</th>          <td>   -0.5359</td> <td>    0.027</td> <td>  -19.687</td> <td> 0.000</td> <td>   -0.589</td> <td>   -0.483</td>\n",
       "</tr>\n",
       "<tr>\n",
       "  <th>phone__iPhone</th>             <td>   -1.0689</td> <td>    0.027</td> <td>  -39.108</td> <td> 0.000</td> <td>   -1.122</td> <td>   -1.015</td>\n",
       "</tr>\n",
       "<tr>\n",
       "  <th>phone__other</th>              <td>   -0.2764</td> <td>    0.134</td> <td>   -2.058</td> <td> 0.040</td> <td>   -0.540</td> <td>   -0.013</td>\n",
       "</tr>\n",
       "<tr>\n",
       "  <th>avg_rating_of_driver__low</th> <td>    0.3830</td> <td>    0.029</td> <td>   13.419</td> <td> 0.000</td> <td>    0.327</td> <td>    0.439</td>\n",
       "</tr>\n",
       "<tr>\n",
       "  <th>avg_rating_by_driver__low</th> <td>    0.5541</td> <td>    0.071</td> <td>    7.810</td> <td> 0.000</td> <td>    0.415</td> <td>    0.693</td>\n",
       "</tr>\n",
       "<tr>\n",
       "  <th>time_as_user</th>              <td>    0.0099</td> <td>    0.001</td> <td>   13.953</td> <td> 0.000</td> <td>    0.009</td> <td>    0.011</td>\n",
       "</tr>\n",
       "</table>"
      ],
      "text/plain": [
       "<class 'statsmodels.iolib.summary.Summary'>\n",
       "\"\"\"\n",
       "                           Logit Regression Results                           \n",
       "==============================================================================\n",
       "Dep. Variable:                  label   No. Observations:                40000\n",
       "Model:                          Logit   Df Residuals:                    39987\n",
       "Method:                           MLE   Df Model:                           12\n",
       "Date:                Fri, 12 Oct 2018   Pseudo R-squ.:                  0.1609\n",
       "Time:                        12:46:46   Log-Likelihood:                -22217.\n",
       "converged:                       True   LL-Null:                       -26479.\n",
       "                                        LLR p-value:                     0.000\n",
       "=============================================================================================\n",
       "                                coef    std err          z      P>|z|      [0.025      0.975]\n",
       "---------------------------------------------------------------------------------------------\n",
       "avg_dist                      0.0384      0.002     16.368      0.000       0.034       0.043\n",
       "avg_surge                     0.7908      0.092      8.567      0.000       0.610       0.972\n",
       "surge_pct                    -0.0083      0.001     -8.688      0.000      -0.010      -0.006\n",
       "trips_in_first_30_days       -0.1090      0.004    -28.349      0.000      -0.117      -0.101\n",
       "luxury_car_user              -0.8645      0.024    -36.151      0.000      -0.911      -0.818\n",
       "weekday_pct                   0.0008      0.000      2.533      0.011       0.000       0.001\n",
       "city__King's Landing         -1.6675      0.033    -50.625      0.000      -1.732      -1.603\n",
       "city__Winterfell             -0.5359      0.027    -19.687      0.000      -0.589      -0.483\n",
       "phone__iPhone                -1.0689      0.027    -39.108      0.000      -1.122      -1.015\n",
       "phone__other                 -0.2764      0.134     -2.058      0.040      -0.540      -0.013\n",
       "avg_rating_of_driver__low     0.3830      0.029     13.419      0.000       0.327       0.439\n",
       "avg_rating_by_driver__low     0.5541      0.071      7.810      0.000       0.415       0.693\n",
       "time_as_user                  0.0099      0.001     13.953      0.000       0.009       0.011\n",
       "=============================================================================================\n",
       "\"\"\""
      ]
     },
     "execution_count": 45,
     "metadata": {},
     "output_type": "execute_result"
    }
   ],
   "source": [
    "result.summary()"
   ]
  },
  {
   "cell_type": "code",
   "execution_count": 47,
   "metadata": {},
   "outputs": [
    {
     "name": "stderr",
     "output_type": "stream",
     "text": [
      "/home/amarsrinivas/anaconda3/lib/python3.6/site-packages/sklearn/model_selection/_split.py:2026: FutureWarning: From version 0.21, test_size will always complement train_size unless both are specified.\n",
      "  FutureWarning)\n"
     ]
    }
   ],
   "source": [
    "X_train, X_test, y_train, y_test = train_test_split(X, y, train_size = 0.7)"
   ]
  },
  {
   "cell_type": "code",
   "execution_count": 50,
   "metadata": {},
   "outputs": [],
   "source": [
    "logit = sm.Logit(y_train, X_train)"
   ]
  },
  {
   "cell_type": "code",
   "execution_count": 51,
   "metadata": {},
   "outputs": [
    {
     "name": "stdout",
     "output_type": "stream",
     "text": [
      "Optimization terminated successfully.\n",
      "         Current function value: 0.556989\n",
      "         Iterations 6\n"
     ]
    }
   ],
   "source": [
    "result = logit.fit()"
   ]
  },
  {
   "cell_type": "code",
   "execution_count": 52,
   "metadata": {},
   "outputs": [
    {
     "data": {
      "text/html": [
       "<table class=\"simpletable\">\n",
       "<caption>Logit Regression Results</caption>\n",
       "<tr>\n",
       "  <th>Dep. Variable:</th>       <td>label</td>      <th>  No. Observations:  </th>  <td> 28000</td> \n",
       "</tr>\n",
       "<tr>\n",
       "  <th>Model:</th>               <td>Logit</td>      <th>  Df Residuals:      </th>  <td> 27987</td> \n",
       "</tr>\n",
       "<tr>\n",
       "  <th>Method:</th>               <td>MLE</td>       <th>  Df Model:          </th>  <td>    12</td> \n",
       "</tr>\n",
       "<tr>\n",
       "  <th>Date:</th>          <td>Fri, 12 Oct 2018</td> <th>  Pseudo R-squ.:     </th>  <td>0.1615</td> \n",
       "</tr>\n",
       "<tr>\n",
       "  <th>Time:</th>              <td>12:49:04</td>     <th>  Log-Likelihood:    </th> <td> -15596.</td>\n",
       "</tr>\n",
       "<tr>\n",
       "  <th>converged:</th>           <td>True</td>       <th>  LL-Null:           </th> <td> -18600.</td>\n",
       "</tr>\n",
       "<tr>\n",
       "  <th> </th>                      <td> </td>        <th>  LLR p-value:       </th>  <td> 0.000</td> \n",
       "</tr>\n",
       "</table>\n",
       "<table class=\"simpletable\">\n",
       "<tr>\n",
       "              <td></td>                 <th>coef</th>     <th>std err</th>      <th>z</th>      <th>P>|z|</th>  <th>[0.025</th>    <th>0.975]</th>  \n",
       "</tr>\n",
       "<tr>\n",
       "  <th>avg_dist</th>                  <td>    0.0382</td> <td>    0.003</td> <td>   13.621</td> <td> 0.000</td> <td>    0.033</td> <td>    0.044</td>\n",
       "</tr>\n",
       "<tr>\n",
       "  <th>avg_surge</th>                 <td>    0.7576</td> <td>    0.110</td> <td>    6.875</td> <td> 0.000</td> <td>    0.542</td> <td>    0.974</td>\n",
       "</tr>\n",
       "<tr>\n",
       "  <th>surge_pct</th>                 <td>   -0.0082</td> <td>    0.001</td> <td>   -7.159</td> <td> 0.000</td> <td>   -0.010</td> <td>   -0.006</td>\n",
       "</tr>\n",
       "<tr>\n",
       "  <th>trips_in_first_30_days</th>    <td>   -0.1092</td> <td>    0.005</td> <td>  -23.635</td> <td> 0.000</td> <td>   -0.118</td> <td>   -0.100</td>\n",
       "</tr>\n",
       "<tr>\n",
       "  <th>luxury_car_user</th>           <td>   -0.8587</td> <td>    0.029</td> <td>  -30.127</td> <td> 0.000</td> <td>   -0.915</td> <td>   -0.803</td>\n",
       "</tr>\n",
       "<tr>\n",
       "  <th>weekday_pct</th>               <td>    0.0008</td> <td>    0.000</td> <td>    2.083</td> <td> 0.037</td> <td> 4.72e-05</td> <td>    0.002</td>\n",
       "</tr>\n",
       "<tr>\n",
       "  <th>city__King's Landing</th>      <td>   -1.6613</td> <td>    0.039</td> <td>  -42.213</td> <td> 0.000</td> <td>   -1.738</td> <td>   -1.584</td>\n",
       "</tr>\n",
       "<tr>\n",
       "  <th>city__Winterfell</th>          <td>   -0.5299</td> <td>    0.032</td> <td>  -16.353</td> <td> 0.000</td> <td>   -0.593</td> <td>   -0.466</td>\n",
       "</tr>\n",
       "<tr>\n",
       "  <th>phone__iPhone</th>             <td>   -1.0754</td> <td>    0.033</td> <td>  -33.008</td> <td> 0.000</td> <td>   -1.139</td> <td>   -1.012</td>\n",
       "</tr>\n",
       "<tr>\n",
       "  <th>phone__other</th>              <td>   -0.2761</td> <td>    0.165</td> <td>   -1.674</td> <td> 0.094</td> <td>   -0.599</td> <td>    0.047</td>\n",
       "</tr>\n",
       "<tr>\n",
       "  <th>avg_rating_of_driver__low</th> <td>    0.4085</td> <td>    0.034</td> <td>   11.952</td> <td> 0.000</td> <td>    0.342</td> <td>    0.476</td>\n",
       "</tr>\n",
       "<tr>\n",
       "  <th>avg_rating_by_driver__low</th> <td>    0.5245</td> <td>    0.086</td> <td>    6.098</td> <td> 0.000</td> <td>    0.356</td> <td>    0.693</td>\n",
       "</tr>\n",
       "<tr>\n",
       "  <th>time_as_user</th>              <td>    0.0100</td> <td>    0.001</td> <td>   11.800</td> <td> 0.000</td> <td>    0.008</td> <td>    0.012</td>\n",
       "</tr>\n",
       "</table>"
      ],
      "text/plain": [
       "<class 'statsmodels.iolib.summary.Summary'>\n",
       "\"\"\"\n",
       "                           Logit Regression Results                           \n",
       "==============================================================================\n",
       "Dep. Variable:                  label   No. Observations:                28000\n",
       "Model:                          Logit   Df Residuals:                    27987\n",
       "Method:                           MLE   Df Model:                           12\n",
       "Date:                Fri, 12 Oct 2018   Pseudo R-squ.:                  0.1615\n",
       "Time:                        12:49:04   Log-Likelihood:                -15596.\n",
       "converged:                       True   LL-Null:                       -18600.\n",
       "                                        LLR p-value:                     0.000\n",
       "=============================================================================================\n",
       "                                coef    std err          z      P>|z|      [0.025      0.975]\n",
       "---------------------------------------------------------------------------------------------\n",
       "avg_dist                      0.0382      0.003     13.621      0.000       0.033       0.044\n",
       "avg_surge                     0.7576      0.110      6.875      0.000       0.542       0.974\n",
       "surge_pct                    -0.0082      0.001     -7.159      0.000      -0.010      -0.006\n",
       "trips_in_first_30_days       -0.1092      0.005    -23.635      0.000      -0.118      -0.100\n",
       "luxury_car_user              -0.8587      0.029    -30.127      0.000      -0.915      -0.803\n",
       "weekday_pct                   0.0008      0.000      2.083      0.037    4.72e-05       0.002\n",
       "city__King's Landing         -1.6613      0.039    -42.213      0.000      -1.738      -1.584\n",
       "city__Winterfell             -0.5299      0.032    -16.353      0.000      -0.593      -0.466\n",
       "phone__iPhone                -1.0754      0.033    -33.008      0.000      -1.139      -1.012\n",
       "phone__other                 -0.2761      0.165     -1.674      0.094      -0.599       0.047\n",
       "avg_rating_of_driver__low     0.4085      0.034     11.952      0.000       0.342       0.476\n",
       "avg_rating_by_driver__low     0.5245      0.086      6.098      0.000       0.356       0.693\n",
       "time_as_user                  0.0100      0.001     11.800      0.000       0.008       0.012\n",
       "=============================================================================================\n",
       "\"\"\""
      ]
     },
     "execution_count": 52,
     "metadata": {},
     "output_type": "execute_result"
    }
   ],
   "source": [
    "result.summary()"
   ]
  },
  {
   "cell_type": "code",
   "execution_count": 53,
   "metadata": {},
   "outputs": [],
   "source": [
    "featuresIwant = [\"avg_dist\", \"weekday_pct\", \"avg_rating_by_driver__low\", \"surge_pct\", \"trips_in_first_30_days\"]"
   ]
  },
  {
   "cell_type": "code",
   "execution_count": 54,
   "metadata": {},
   "outputs": [],
   "source": [
    "X_train_new = X_train[featuresIwant]"
   ]
  },
  {
   "cell_type": "code",
   "execution_count": 56,
   "metadata": {},
   "outputs": [],
   "source": [
    "logit_new = sm.Logit(y_train, X_train_new)"
   ]
  },
  {
   "cell_type": "code",
   "execution_count": 57,
   "metadata": {},
   "outputs": [
    {
     "name": "stdout",
     "output_type": "stream",
     "text": [
      "Optimization terminated successfully.\n",
      "         Current function value: 0.643642\n",
      "         Iterations 5\n"
     ]
    }
   ],
   "source": [
    "result_new = logit_new.fit()"
   ]
  },
  {
   "cell_type": "code",
   "execution_count": 58,
   "metadata": {},
   "outputs": [
    {
     "data": {
      "text/html": [
       "<table class=\"simpletable\">\n",
       "<caption>Logit Regression Results</caption>\n",
       "<tr>\n",
       "  <th>Dep. Variable:</th>       <td>label</td>      <th>  No. Observations:  </th>   <td> 28000</td>  \n",
       "</tr>\n",
       "<tr>\n",
       "  <th>Model:</th>               <td>Logit</td>      <th>  Df Residuals:      </th>   <td> 27995</td>  \n",
       "</tr>\n",
       "<tr>\n",
       "  <th>Method:</th>               <td>MLE</td>       <th>  Df Model:          </th>   <td>     4</td>  \n",
       "</tr>\n",
       "<tr>\n",
       "  <th>Date:</th>          <td>Fri, 12 Oct 2018</td> <th>  Pseudo R-squ.:     </th>   <td>0.03108</td> \n",
       "</tr>\n",
       "<tr>\n",
       "  <th>Time:</th>              <td>12:52:00</td>     <th>  Log-Likelihood:    </th>  <td> -18022.</td> \n",
       "</tr>\n",
       "<tr>\n",
       "  <th>converged:</th>           <td>True</td>       <th>  LL-Null:           </th>  <td> -18600.</td> \n",
       "</tr>\n",
       "<tr>\n",
       "  <th> </th>                      <td> </td>        <th>  LLR p-value:       </th> <td>4.623e-249</td>\n",
       "</tr>\n",
       "</table>\n",
       "<table class=\"simpletable\">\n",
       "<tr>\n",
       "              <td></td>                 <th>coef</th>     <th>std err</th>      <th>z</th>      <th>P>|z|</th>  <th>[0.025</th>    <th>0.975]</th>  \n",
       "</tr>\n",
       "<tr>\n",
       "  <th>avg_dist</th>                  <td>    0.0532</td> <td>    0.002</td> <td>   22.091</td> <td> 0.000</td> <td>    0.048</td> <td>    0.058</td>\n",
       "</tr>\n",
       "<tr>\n",
       "  <th>weekday_pct</th>               <td>    0.0044</td> <td>    0.000</td> <td>   16.621</td> <td> 0.000</td> <td>    0.004</td> <td>    0.005</td>\n",
       "</tr>\n",
       "<tr>\n",
       "  <th>avg_rating_by_driver__low</th> <td>    0.9203</td> <td>    0.081</td> <td>   11.399</td> <td> 0.000</td> <td>    0.762</td> <td>    1.079</td>\n",
       "</tr>\n",
       "<tr>\n",
       "  <th>surge_pct</th>                 <td>    0.0039</td> <td>    0.001</td> <td>    6.402</td> <td> 0.000</td> <td>    0.003</td> <td>    0.005</td>\n",
       "</tr>\n",
       "<tr>\n",
       "  <th>trips_in_first_30_days</th>    <td>   -0.1023</td> <td>    0.004</td> <td>  -26.134</td> <td> 0.000</td> <td>   -0.110</td> <td>   -0.095</td>\n",
       "</tr>\n",
       "</table>"
      ],
      "text/plain": [
       "<class 'statsmodels.iolib.summary.Summary'>\n",
       "\"\"\"\n",
       "                           Logit Regression Results                           \n",
       "==============================================================================\n",
       "Dep. Variable:                  label   No. Observations:                28000\n",
       "Model:                          Logit   Df Residuals:                    27995\n",
       "Method:                           MLE   Df Model:                            4\n",
       "Date:                Fri, 12 Oct 2018   Pseudo R-squ.:                 0.03108\n",
       "Time:                        12:52:00   Log-Likelihood:                -18022.\n",
       "converged:                       True   LL-Null:                       -18600.\n",
       "                                        LLR p-value:                4.623e-249\n",
       "=============================================================================================\n",
       "                                coef    std err          z      P>|z|      [0.025      0.975]\n",
       "---------------------------------------------------------------------------------------------\n",
       "avg_dist                      0.0532      0.002     22.091      0.000       0.048       0.058\n",
       "weekday_pct                   0.0044      0.000     16.621      0.000       0.004       0.005\n",
       "avg_rating_by_driver__low     0.9203      0.081     11.399      0.000       0.762       1.079\n",
       "surge_pct                     0.0039      0.001      6.402      0.000       0.003       0.005\n",
       "trips_in_first_30_days       -0.1023      0.004    -26.134      0.000      -0.110      -0.095\n",
       "=============================================================================================\n",
       "\"\"\""
      ]
     },
     "execution_count": 58,
     "metadata": {},
     "output_type": "execute_result"
    }
   ],
   "source": [
    "result_new.summary()"
   ]
  },
  {
   "cell_type": "code",
   "execution_count": 59,
   "metadata": {},
   "outputs": [],
   "source": [
    "y_pred = result.predict(X_test)\n",
    "y_pred_new = result_new.predict(X_test[featuresIwant])"
   ]
  },
  {
   "cell_type": "code",
   "execution_count": 60,
   "metadata": {},
   "outputs": [],
   "source": [
    "fpr, tpr, threshold = roc_curve(y_test, y_pred, pos_label=None, sample_weight=None, drop_intermediate=True)\n",
    "fpr1, tpr1, threshold1 = roc_curve(y_test, y_pred_new, pos_label=None, sample_weight=None, drop_intermediate=True)"
   ]
  },
  {
   "cell_type": "code",
   "execution_count": 61,
   "metadata": {},
   "outputs": [
    {
     "data": {
      "text/plain": [
       "<matplotlib.legend.Legend at 0x7f621c997d30>"
      ]
     },
     "execution_count": 61,
     "metadata": {},
     "output_type": "execute_result"
    },
    {
     "data": {
      "image/png": "[encoded data removed]",
      "text/plain": [
       "<Figure size 432x288 with 1 Axes>"
      ]
     },
     "metadata": {},
     "output_type": "display_data"
    }
   ],
   "source": [
    "plt.plot(fpr, tpr, label = \"all features\")\n",
    "plt.plot(fpr1, tpr1, label = \"5 features\")\n",
    "plt.xlabel(\"false positive rate\")\n",
    "plt.ylabel(\"true positive rate\")\n",
    "plt.legend()"
   ]
  },
  {
   "cell_type": "code",
   "execution_count": 62,
   "metadata": {},
   "outputs": [
    {
     "data": {
      "text/html": [
       "<div>\n",
       "<style scoped>\n",
       "    .dataframe tbody tr th:only-of-type {\n",
       "        vertical-align: middle;\n",
       "    }\n",
       "\n",
       "    .dataframe tbody tr th {\n",
       "        vertical-align: top;\n",
       "    }\n",
       "\n",
       "    .dataframe thead th {\n",
       "        text-align: right;\n",
       "    }\n",
       "</style>\n",
       "<table border=\"1\" class=\"dataframe\">\n",
       "  <thead>\n",
       "    <tr style=\"text-align: right;\">\n",
       "      <th></th>\n",
       "      <th>avg_dist</th>\n",
       "      <th>avg_rating_by_driver</th>\n",
       "      <th>avg_rating_of_driver</th>\n",
       "      <th>avg_surge</th>\n",
       "      <th>city</th>\n",
       "      <th>last_trip_date</th>\n",
       "      <th>phone</th>\n",
       "      <th>signup_date</th>\n",
       "      <th>surge_pct</th>\n",
       "      <th>trips_in_first_30_days</th>\n",
       "      <th>luxury_car_user</th>\n",
       "      <th>weekday_pct</th>\n",
       "      <th>label</th>\n",
       "      <th>time_as_user</th>\n",
       "    </tr>\n",
       "  </thead>\n",
       "  <tbody>\n",
       "    <tr>\n",
       "      <th>0</th>\n",
       "      <td>6.94</td>\n",
       "      <td>high</td>\n",
       "      <td>high</td>\n",
       "      <td>1.00</td>\n",
       "      <td>Astapor</td>\n",
       "      <td>2014-05-03</td>\n",
       "      <td>Android</td>\n",
       "      <td>2014-01-12</td>\n",
       "      <td>0.0</td>\n",
       "      <td>0</td>\n",
       "      <td>0</td>\n",
       "      <td>100.0</td>\n",
       "      <td>True</td>\n",
       "      <td>140</td>\n",
       "    </tr>\n",
       "    <tr>\n",
       "      <th>1</th>\n",
       "      <td>8.06</td>\n",
       "      <td>high</td>\n",
       "      <td>high</td>\n",
       "      <td>1.00</td>\n",
       "      <td>Astapor</td>\n",
       "      <td>2014-01-26</td>\n",
       "      <td>Android</td>\n",
       "      <td>2014-01-25</td>\n",
       "      <td>0.0</td>\n",
       "      <td>2</td>\n",
       "      <td>1</td>\n",
       "      <td>0.0</td>\n",
       "      <td>True</td>\n",
       "      <td>127</td>\n",
       "    </tr>\n",
       "    <tr>\n",
       "      <th>2</th>\n",
       "      <td>21.50</td>\n",
       "      <td>high</td>\n",
       "      <td>low</td>\n",
       "      <td>1.00</td>\n",
       "      <td>Winterfell</td>\n",
       "      <td>2014-05-21</td>\n",
       "      <td>iPhone</td>\n",
       "      <td>2014-01-02</td>\n",
       "      <td>0.0</td>\n",
       "      <td>1</td>\n",
       "      <td>1</td>\n",
       "      <td>100.0</td>\n",
       "      <td>True</td>\n",
       "      <td>150</td>\n",
       "    </tr>\n",
       "    <tr>\n",
       "      <th>3</th>\n",
       "      <td>9.46</td>\n",
       "      <td>high</td>\n",
       "      <td>low</td>\n",
       "      <td>2.75</td>\n",
       "      <td>Winterfell</td>\n",
       "      <td>2014-01-10</td>\n",
       "      <td>Android</td>\n",
       "      <td>2014-01-09</td>\n",
       "      <td>100.0</td>\n",
       "      <td>1</td>\n",
       "      <td>0</td>\n",
       "      <td>100.0</td>\n",
       "      <td>True</td>\n",
       "      <td>143</td>\n",
       "    </tr>\n",
       "    <tr>\n",
       "      <th>4</th>\n",
       "      <td>13.77</td>\n",
       "      <td>high</td>\n",
       "      <td>low</td>\n",
       "      <td>1.00</td>\n",
       "      <td>Winterfell</td>\n",
       "      <td>2014-05-13</td>\n",
       "      <td>iPhone</td>\n",
       "      <td>2014-01-31</td>\n",
       "      <td>0.0</td>\n",
       "      <td>0</td>\n",
       "      <td>0</td>\n",
       "      <td>100.0</td>\n",
       "      <td>True</td>\n",
       "      <td>121</td>\n",
       "    </tr>\n",
       "  </tbody>\n",
       "</table>\n",
       "</div>"
      ],
      "text/plain": [
       "   avg_dist avg_rating_by_driver avg_rating_of_driver  avg_surge        city  \\\n",
       "0      6.94                 high                 high       1.00     Astapor   \n",
       "1      8.06                 high                 high       1.00     Astapor   \n",
       "2     21.50                 high                  low       1.00  Winterfell   \n",
       "3      9.46                 high                  low       2.75  Winterfell   \n",
       "4     13.77                 high                  low       1.00  Winterfell   \n",
       "\n",
       "  last_trip_date    phone signup_date  surge_pct  trips_in_first_30_days  \\\n",
       "0     2014-05-03  Android  2014-01-12        0.0                       0   \n",
       "1     2014-01-26  Android  2014-01-25        0.0                       2   \n",
       "2     2014-05-21   iPhone  2014-01-02        0.0                       1   \n",
       "3     2014-01-10  Android  2014-01-09      100.0                       1   \n",
       "4     2014-05-13   iPhone  2014-01-31        0.0                       0   \n",
       "\n",
       "   luxury_car_user  weekday_pct  label  time_as_user  \n",
       "0                0        100.0   True           140  \n",
       "1                1          0.0   True           127  \n",
       "2                1        100.0   True           150  \n",
       "3                0        100.0   True           143  \n",
       "4                0        100.0   True           121  "
      ]
     },
     "execution_count": 62,
     "metadata": {},
     "output_type": "execute_result"
    }
   ],
   "source": [
    "df.head()"
   ]
  },
  {
   "cell_type": "code",
   "execution_count": 73,
   "metadata": {},
   "outputs": [],
   "source": [
    "df_2 = df.copy()"
   ]
  },
  {
   "cell_type": "code",
   "execution_count": 74,
   "metadata": {},
   "outputs": [],
   "source": [
    "for i in categories:\n",
    "    x = pd.get_dummies(df_2[i], prefix = str(i)+\"_\")\n",
    "    df_2 = pd.concat([df_2, x],axis=1)"
   ]
  },
  {
   "cell_type": "code",
   "execution_count": 75,
   "metadata": {},
   "outputs": [],
   "source": [
    "rf_df = df_2.copy()"
   ]
  },
  {
   "cell_type": "code",
   "execution_count": 76,
   "metadata": {},
   "outputs": [
    {
     "data": {
      "text/plain": [
       "Index(['avg_dist', 'avg_rating_by_driver', 'avg_rating_of_driver', 'avg_surge',\n",
       "       'city', 'last_trip_date', 'phone', 'signup_date', 'surge_pct',\n",
       "       'trips_in_first_30_days', 'luxury_car_user', 'weekday_pct', 'label',\n",
       "       'time_as_user', 'city__Astapor', 'city__King's Landing',\n",
       "       'city__Winterfell', 'phone__Android', 'phone__iPhone', 'phone__other',\n",
       "       'avg_rating_of_driver__high', 'avg_rating_of_driver__low',\n",
       "       'avg_rating_by_driver__high', 'avg_rating_by_driver__low'],\n",
       "      dtype='object')"
      ]
     },
     "execution_count": 76,
     "metadata": {},
     "output_type": "execute_result"
    }
   ],
   "source": [
    "rf_df.columns"
   ]
  },
  {
   "cell_type": "code",
   "execution_count": 77,
   "metadata": {},
   "outputs": [],
   "source": [
    "features = [u'avg_dist',\n",
    "       u'avg_surge',\n",
    "       u'surge_pct', u'trips_in_first_30_days', u'luxury_car_user',\n",
    "       u'weekday_pct', u'city__Astapor', \"city__King's Landing\",\n",
    "       u'city__Winterfell', u'phone__Android', u'phone__iPhone',\n",
    "       u'phone__other', u'avg_rating_of_driver__high',\n",
    "       u'avg_rating_of_driver__low', u'avg_rating_by_driver__high',\n",
    "       u'avg_rating_by_driver__low']"
   ]
  },
  {
   "cell_type": "code",
   "execution_count": 78,
   "metadata": {},
   "outputs": [
    {
     "name": "stdout",
     "output_type": "stream",
     "text": [
      "<class 'pandas.core.frame.DataFrame'>\n",
      "RangeIndex: 40000 entries, 0 to 39999\n",
      "Data columns (total 16 columns):\n",
      "avg_dist                      40000 non-null float64\n",
      "avg_surge                     40000 non-null float64\n",
      "surge_pct                     40000 non-null float64\n",
      "trips_in_first_30_days        40000 non-null int64\n",
      "luxury_car_user               40000 non-null int64\n",
      "weekday_pct                   40000 non-null float64\n",
      "city__Astapor                 40000 non-null uint8\n",
      "city__King's Landing          40000 non-null uint8\n",
      "city__Winterfell              40000 non-null uint8\n",
      "phone__Android                40000 non-null uint8\n",
      "phone__iPhone                 40000 non-null uint8\n",
      "phone__other                  40000 non-null uint8\n",
      "avg_rating_of_driver__high    40000 non-null uint8\n",
      "avg_rating_of_driver__low     40000 non-null uint8\n",
      "avg_rating_by_driver__high    40000 non-null uint8\n",
      "avg_rating_by_driver__low     40000 non-null uint8\n",
      "dtypes: float64(4), int64(2), uint8(10)\n",
      "memory usage: 2.2 MB\n"
     ]
    }
   ],
   "source": [
    "rf_df[features].info()"
   ]
  },
  {
   "cell_type": "code",
   "execution_count": 79,
   "metadata": {},
   "outputs": [],
   "source": [
    "y_rf = rf_df.pop(\"label\").values\n",
    "X_rf = rf_df[features].values"
   ]
  },
  {
   "cell_type": "code",
   "execution_count": 80,
   "metadata": {},
   "outputs": [
    {
     "name": "stderr",
     "output_type": "stream",
     "text": [
      "/home/amarsrinivas/anaconda3/lib/python3.6/site-packages/sklearn/model_selection/_split.py:2026: FutureWarning: From version 0.21, test_size will always complement train_size unless both are specified.\n",
      "  FutureWarning)\n"
     ]
    }
   ],
   "source": [
    "Xtrain, Xtest, ytrain, ytest = train_test_split(X_rf, y_rf, train_size = 0.7)"
   ]
  },
  {
   "cell_type": "code",
   "execution_count": 81,
   "metadata": {},
   "outputs": [
    {
     "data": {
      "text/plain": [
       "(40000,)"
      ]
     },
     "execution_count": 81,
     "metadata": {},
     "output_type": "execute_result"
    }
   ],
   "source": [
    "y_rf.shape"
   ]
  },
  {
   "cell_type": "code",
   "execution_count": 83,
   "metadata": {},
   "outputs": [
    {
     "data": {
      "text/plain": [
       "RandomForestClassifier(bootstrap=True, class_weight=None, criterion='gini',\n",
       "            max_depth=None, max_features='sqrt', max_leaf_nodes=None,\n",
       "            min_impurity_decrease=0.0, min_impurity_split=None,\n",
       "            min_samples_leaf=1, min_samples_split=2,\n",
       "            min_weight_fraction_leaf=0.0, n_estimators=100, n_jobs=1,\n",
       "            oob_score=False, random_state=None, verbose=0,\n",
       "            warm_start=False)"
      ]
     },
     "execution_count": 83,
     "metadata": {},
     "output_type": "execute_result"
    }
   ],
   "source": [
    "rf = RandomForestClassifier(n_estimators=100, max_features='sqrt')\n",
    "rf"
   ]
  },
  {
   "cell_type": "code",
   "execution_count": 84,
   "metadata": {},
   "outputs": [
    {
     "data": {
      "text/plain": [
       "RandomForestClassifier(bootstrap=True, class_weight=None, criterion='gini',\n",
       "            max_depth=None, max_features='sqrt', max_leaf_nodes=None,\n",
       "            min_impurity_decrease=0.0, min_impurity_split=None,\n",
       "            min_samples_leaf=1, min_samples_split=2,\n",
       "            min_weight_fraction_leaf=0.0, n_estimators=100, n_jobs=1,\n",
       "            oob_score=False, random_state=None, verbose=0,\n",
       "            warm_start=False)"
      ]
     },
     "execution_count": 84,
     "metadata": {},
     "output_type": "execute_result"
    }
   ],
   "source": [
    "rf.fit(Xtrain, ytrain)"
   ]
  },
  {
   "cell_type": "code",
   "execution_count": 85,
   "metadata": {},
   "outputs": [],
   "source": [
    "predictions = rf.predict(Xtest)"
   ]
  },
  {
   "cell_type": "code",
   "execution_count": 86,
   "metadata": {},
   "outputs": [
    {
     "data": {
      "text/plain": [
       "(12000,)"
      ]
     },
     "execution_count": 86,
     "metadata": {},
     "output_type": "execute_result"
    }
   ],
   "source": [
    "ytest.shape"
   ]
  },
  {
   "cell_type": "code",
   "execution_count": 96,
   "metadata": {},
   "outputs": [],
   "source": [
    "imp_features = rf.feature_importances_"
   ]
  },
  {
   "cell_type": "code",
   "execution_count": 97,
   "metadata": {},
   "outputs": [],
   "source": [
    "importance_list = pd.DataFrame(imp_features, index=features, columns = ['rel_importance'])"
   ]
  },
  {
   "cell_type": "code",
   "execution_count": 98,
   "metadata": {},
   "outputs": [
    {
     "data": {
      "text/html": [
       "<div>\n",
       "<style scoped>\n",
       "    .dataframe tbody tr th:only-of-type {\n",
       "        vertical-align: middle;\n",
       "    }\n",
       "\n",
       "    .dataframe tbody tr th {\n",
       "        vertical-align: top;\n",
       "    }\n",
       "\n",
       "    .dataframe thead th {\n",
       "        text-align: right;\n",
       "    }\n",
       "</style>\n",
       "<table border=\"1\" class=\"dataframe\">\n",
       "  <thead>\n",
       "    <tr style=\"text-align: right;\">\n",
       "      <th></th>\n",
       "      <th>index</th>\n",
       "      <th>rel_importance</th>\n",
       "    </tr>\n",
       "  </thead>\n",
       "  <tbody>\n",
       "    <tr>\n",
       "      <th>0</th>\n",
       "      <td>avg_dist</td>\n",
       "      <td>0.383988</td>\n",
       "    </tr>\n",
       "    <tr>\n",
       "      <th>1</th>\n",
       "      <td>avg_surge</td>\n",
       "      <td>0.082497</td>\n",
       "    </tr>\n",
       "    <tr>\n",
       "      <th>2</th>\n",
       "      <td>surge_pct</td>\n",
       "      <td>0.098416</td>\n",
       "    </tr>\n",
       "    <tr>\n",
       "      <th>3</th>\n",
       "      <td>trips_in_first_30_days</td>\n",
       "      <td>0.090743</td>\n",
       "    </tr>\n",
       "    <tr>\n",
       "      <th>4</th>\n",
       "      <td>luxury_car_user</td>\n",
       "      <td>0.034968</td>\n",
       "    </tr>\n",
       "    <tr>\n",
       "      <th>5</th>\n",
       "      <td>weekday_pct</td>\n",
       "      <td>0.177809</td>\n",
       "    </tr>\n",
       "    <tr>\n",
       "      <th>6</th>\n",
       "      <td>city__Astapor</td>\n",
       "      <td>0.013963</td>\n",
       "    </tr>\n",
       "    <tr>\n",
       "      <th>7</th>\n",
       "      <td>city__King's Landing</td>\n",
       "      <td>0.047054</td>\n",
       "    </tr>\n",
       "    <tr>\n",
       "      <th>8</th>\n",
       "      <td>city__Winterfell</td>\n",
       "      <td>0.010054</td>\n",
       "    </tr>\n",
       "    <tr>\n",
       "      <th>9</th>\n",
       "      <td>phone__Android</td>\n",
       "      <td>0.020418</td>\n",
       "    </tr>\n",
       "    <tr>\n",
       "      <th>10</th>\n",
       "      <td>phone__iPhone</td>\n",
       "      <td>0.020684</td>\n",
       "    </tr>\n",
       "    <tr>\n",
       "      <th>11</th>\n",
       "      <td>phone__other</td>\n",
       "      <td>0.001179</td>\n",
       "    </tr>\n",
       "    <tr>\n",
       "      <th>12</th>\n",
       "      <td>avg_rating_of_driver__high</td>\n",
       "      <td>0.006285</td>\n",
       "    </tr>\n",
       "    <tr>\n",
       "      <th>13</th>\n",
       "      <td>avg_rating_of_driver__low</td>\n",
       "      <td>0.006361</td>\n",
       "    </tr>\n",
       "    <tr>\n",
       "      <th>14</th>\n",
       "      <td>avg_rating_by_driver__high</td>\n",
       "      <td>0.002694</td>\n",
       "    </tr>\n",
       "    <tr>\n",
       "      <th>15</th>\n",
       "      <td>avg_rating_by_driver__low</td>\n",
       "      <td>0.002887</td>\n",
       "    </tr>\n",
       "  </tbody>\n",
       "</table>\n",
       "</div>"
      ],
      "text/plain": [
       "                         index  rel_importance\n",
       "0                     avg_dist        0.383988\n",
       "1                    avg_surge        0.082497\n",
       "2                    surge_pct        0.098416\n",
       "3       trips_in_first_30_days        0.090743\n",
       "4              luxury_car_user        0.034968\n",
       "5                  weekday_pct        0.177809\n",
       "6                city__Astapor        0.013963\n",
       "7         city__King's Landing        0.047054\n",
       "8             city__Winterfell        0.010054\n",
       "9               phone__Android        0.020418\n",
       "10               phone__iPhone        0.020684\n",
       "11                phone__other        0.001179\n",
       "12  avg_rating_of_driver__high        0.006285\n",
       "13   avg_rating_of_driver__low        0.006361\n",
       "14  avg_rating_by_driver__high        0.002694\n",
       "15   avg_rating_by_driver__low        0.002887"
      ]
     },
     "execution_count": 98,
     "metadata": {},
     "output_type": "execute_result"
    }
   ],
   "source": [
    "importance_list.reset_index()"
   ]
  },
  {
   "cell_type": "code",
   "execution_count": 99,
   "metadata": {},
   "outputs": [
    {
     "data": {
      "text/plain": [
       "array([[<matplotlib.axes._subplots.AxesSubplot object at 0x7f621c6233c8>]],\n",
       "      dtype=object)"
      ]
     },
     "execution_count": 99,
     "metadata": {},
     "output_type": "execute_result"
    },
    {
     "data": {
      "image/png": "[encoded data removed]",
      "text/plain": [
       "<Figure size 432x288 with 1 Axes>"
      ]
     },
     "metadata": {},
     "output_type": "display_data"
    }
   ],
   "source": [
    "importance_list.hist()"
   ]
  },
  {
   "cell_type": "code",
   "execution_count": 100,
   "metadata": {},
   "outputs": [],
   "source": [
    "importance_list.sort_values(\"rel_importance\", ascending=False, inplace=True)"
   ]
  },
  {
   "cell_type": "code",
   "execution_count": 102,
   "metadata": {},
   "outputs": [
    {
     "data": {
      "text/html": [
       "<div>\n",
       "<style scoped>\n",
       "    .dataframe tbody tr th:only-of-type {\n",
       "        vertical-align: middle;\n",
       "    }\n",
       "\n",
       "    .dataframe tbody tr th {\n",
       "        vertical-align: top;\n",
       "    }\n",
       "\n",
       "    .dataframe thead th {\n",
       "        text-align: right;\n",
       "    }\n",
       "</style>\n",
       "<table border=\"1\" class=\"dataframe\">\n",
       "  <thead>\n",
       "    <tr style=\"text-align: right;\">\n",
       "      <th></th>\n",
       "      <th>index</th>\n",
       "      <th>rel_importance</th>\n",
       "    </tr>\n",
       "  </thead>\n",
       "  <tbody>\n",
       "    <tr>\n",
       "      <th>0</th>\n",
       "      <td>avg_dist</td>\n",
       "      <td>0.383988</td>\n",
       "    </tr>\n",
       "    <tr>\n",
       "      <th>1</th>\n",
       "      <td>weekday_pct</td>\n",
       "      <td>0.177809</td>\n",
       "    </tr>\n",
       "    <tr>\n",
       "      <th>2</th>\n",
       "      <td>surge_pct</td>\n",
       "      <td>0.098416</td>\n",
       "    </tr>\n",
       "    <tr>\n",
       "      <th>3</th>\n",
       "      <td>trips_in_first_30_days</td>\n",
       "      <td>0.090743</td>\n",
       "    </tr>\n",
       "    <tr>\n",
       "      <th>4</th>\n",
       "      <td>avg_surge</td>\n",
       "      <td>0.082497</td>\n",
       "    </tr>\n",
       "    <tr>\n",
       "      <th>5</th>\n",
       "      <td>city__King's Landing</td>\n",
       "      <td>0.047054</td>\n",
       "    </tr>\n",
       "    <tr>\n",
       "      <th>6</th>\n",
       "      <td>luxury_car_user</td>\n",
       "      <td>0.034968</td>\n",
       "    </tr>\n",
       "    <tr>\n",
       "      <th>7</th>\n",
       "      <td>phone__iPhone</td>\n",
       "      <td>0.020684</td>\n",
       "    </tr>\n",
       "    <tr>\n",
       "      <th>8</th>\n",
       "      <td>phone__Android</td>\n",
       "      <td>0.020418</td>\n",
       "    </tr>\n",
       "    <tr>\n",
       "      <th>9</th>\n",
       "      <td>city__Astapor</td>\n",
       "      <td>0.013963</td>\n",
       "    </tr>\n",
       "    <tr>\n",
       "      <th>10</th>\n",
       "      <td>city__Winterfell</td>\n",
       "      <td>0.010054</td>\n",
       "    </tr>\n",
       "    <tr>\n",
       "      <th>11</th>\n",
       "      <td>avg_rating_of_driver__low</td>\n",
       "      <td>0.006361</td>\n",
       "    </tr>\n",
       "    <tr>\n",
       "      <th>12</th>\n",
       "      <td>avg_rating_of_driver__high</td>\n",
       "      <td>0.006285</td>\n",
       "    </tr>\n",
       "    <tr>\n",
       "      <th>13</th>\n",
       "      <td>avg_rating_by_driver__low</td>\n",
       "      <td>0.002887</td>\n",
       "    </tr>\n",
       "    <tr>\n",
       "      <th>14</th>\n",
       "      <td>avg_rating_by_driver__high</td>\n",
       "      <td>0.002694</td>\n",
       "    </tr>\n",
       "    <tr>\n",
       "      <th>15</th>\n",
       "      <td>phone__other</td>\n",
       "      <td>0.001179</td>\n",
       "    </tr>\n",
       "  </tbody>\n",
       "</table>\n",
       "</div>"
      ],
      "text/plain": [
       "                         index  rel_importance\n",
       "0                     avg_dist        0.383988\n",
       "1                  weekday_pct        0.177809\n",
       "2                    surge_pct        0.098416\n",
       "3       trips_in_first_30_days        0.090743\n",
       "4                    avg_surge        0.082497\n",
       "5         city__King's Landing        0.047054\n",
       "6              luxury_car_user        0.034968\n",
       "7                phone__iPhone        0.020684\n",
       "8               phone__Android        0.020418\n",
       "9                city__Astapor        0.013963\n",
       "10            city__Winterfell        0.010054\n",
       "11   avg_rating_of_driver__low        0.006361\n",
       "12  avg_rating_of_driver__high        0.006285\n",
       "13   avg_rating_by_driver__low        0.002887\n",
       "14  avg_rating_by_driver__high        0.002694\n",
       "15                phone__other        0.001179"
      ]
     },
     "execution_count": 102,
     "metadata": {},
     "output_type": "execute_result"
    }
   ],
   "source": [
    "importance_list.reset_index()"
   ]
  },
  {
   "cell_type": "code",
   "execution_count": 103,
   "metadata": {},
   "outputs": [],
   "source": [
    "fpr, tpr, threshold = roc_curve(y_test, y_pred, pos_label=None, sample_weight=None, drop_intermediate=True)\n",
    "fpr1, tpr1, threshold1 = roc_curve(y_test, y_pred_new, pos_label=None, sample_weight=None, drop_intermediate=True)\n",
    "fpr2, tpr2, threshold2 = roc_curve(ytest, predictions, pos_label=None, sample_weight=None, drop_intermediate=True)"
   ]
  },
  {
   "cell_type": "code",
   "execution_count": 106,
   "metadata": {},
   "outputs": [
    {
     "data": {
      "text/plain": [
       "<matplotlib.legend.Legend at 0x7f621c090668>"
      ]
     },
     "execution_count": 106,
     "metadata": {},
     "output_type": "execute_result"
    },
    {
     "data": {
      "image/png": "[encoded data removed]",
      "text/plain": [
       "<Figure size 432x288 with 1 Axes>"
      ]
     },
     "metadata": {},
     "output_type": "display_data"
    }
   ],
   "source": [
    "plt.plot(fpr, tpr, label = \"logistic_all_features\")\n",
    "plt.plot(fpr1, tpr1, label = \"logistic_5 features\")\n",
    "plt.plot(fpr2, tpr2, label = \"Random forest Classifier\")\n",
    "plt.xlabel(\"False positive rate\")\n",
    "plt.ylabel(\"True positive rate\")\n",
    "plt.legend()"
   ]
  },
  {
   "cell_type": "code",
   "execution_count": null,
   "metadata": {},
   "outputs": [],
   "source": []
  }
 ],
 "metadata": {
  "kernelspec": {
   "display_name": "Python 3",
   "language": "python",
   "name": "python3"
  },
  "language_info": {
   "codemirror_mode": {
    "name": "ipython",
    "version": 3
   },
   "file_extension": ".py",
   "mimetype": "text/x-python",
   "name": "python",
   "nbconvert_exporter": "python",
   "pygments_lexer": "ipython3",
   "version": "3.6.5"
  }
 },
 "nbformat": 4,
 "nbformat_minor": 2
}
